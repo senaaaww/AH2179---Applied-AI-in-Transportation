{
 "cells": [
  {
   "cell_type": "markdown",
   "metadata": {
    "id": "R__DcXTj-zbL"
   },
   "source": [
    "# Exercise 3: Mode choice classification\n",
    "\n",
    "Transportation mode choice is a critical decision-making process that individuals, businesses, and urban planners face daily. It involves selecting the most suitable mode of transportation for a given journey/trip, taking into account factors such as cost, time, convenience, and environmental impact. In this tutorial, we will explore how to address the mode choice problem using classification models.\n",
    "\n",
    "**Key points to cover:**\n",
    "\n",
    "* Mode choice problem;\n",
    "* *Encoding techniques* for categorical variables\n",
    "* Classification models *implementation*\n",
    "* Classification models *evaluation metrics*\n"
   ]
  },
  {
   "cell_type": "code",
   "execution_count": 1,
   "metadata": {
    "id": "121uD1UhQ_-X"
   },
   "outputs": [],
   "source": [
    "import pandas as pd\n",
    "from statistics import mode\n",
    "import numpy as np\n",
    "import os"
   ]
  },
  {
   "cell_type": "markdown",
   "metadata": {
    "id": "08qMPRhP_ci_"
   },
   "source": [
    "## Loading the dataset"
   ]
  },
  {
   "cell_type": "code",
   "execution_count": 2,
   "metadata": {
    "id": "Ap0p7etz_bgX"
   },
   "outputs": [],
   "source": [
    "# The path of the dataset\n",
    "url = 'https://raw.githubusercontent.com/zhenliangma/Applied-AI-in-Transportation/master/Exercise_3_Mode_choice_model/modeChoiceData.csv'\n",
    "# Load the data use the pandas\n",
    "moide_choice_data = pd.read_csv(url)"
   ]
  },
  {
   "cell_type": "markdown",
   "metadata": {
    "id": "ug2z8HSFiFua"
   },
   "source": [
    "## Data Preparation\n",
    "\n",
    "Transform the dataset into a binary classification problem: car vs. rail."
   ]
  },
  {
   "cell_type": "code",
   "execution_count": 3,
   "metadata": {
    "id": "LIXnje53RCM8"
   },
   "outputs": [],
   "source": [
    "mode_choice_car_df = (\n",
    "    moide_choice_data.loc[moide_choice_data[\"choice\"].isin([\"car\", \"rail\"]),\n",
    "     [\"time_car\", \"cost_car\", \"time_rail\", \"cost_rail\", \"access_rail\", \"service_rail\", \"choice\"]]\n",
    "    .reset_index()\n",
    "    .drop(columns=[\"index\"])\n",
    ")"
   ]
  },
  {
   "cell_type": "markdown",
   "metadata": {
    "id": "_J1clfo5oO43"
   },
   "source": [
    "Check the distribution of the classes:"
   ]
  },
  {
   "cell_type": "code",
   "execution_count": 4,
   "metadata": {
    "colab": {
     "base_uri": "https://localhost:8080/",
     "height": 472
    },
    "id": "C1pIrz7voMky",
    "outputId": "a0c35651-1e23-46e5-abcf-a0813aae6853"
   },
   "outputs": [
    {
     "data": {
      "image/png": "[encoded data removed]",
      "text/plain": [
       "<Figure size 640x480 with 1 Axes>"
      ]
     },
     "metadata": {},
     "output_type": "display_data"
    }
   ],
   "source": [
    "import seaborn as sns\n",
    "import matplotlib.pyplot as plt\n",
    "\n",
    "# Assuming the classes are stored in a column called 'class'\n",
    "sns.countplot(data=mode_choice_car_df, x='choice')\n",
    "\n",
    "# Add title and labels\n",
    "plt.title('Distribution of Classes')\n",
    "plt.xlabel('Class')\n",
    "plt.ylabel('Count')\n",
    "\n",
    "# Show the plot\n",
    "plt.show()"
   ]
  },
  {
   "cell_type": "code",
   "execution_count": 5,
   "metadata": {
    "colab": {
     "base_uri": "https://localhost:8080/",
     "height": 363
    },
    "id": "jDGQL7Gnoy8C",
    "outputId": "24de7a26-30b8-44c5-9644-486c00e49977"
   },
   "outputs": [
    {
     "data": {
      "text/html": [
       "<div>\n",
       "<style scoped>\n",
       "    .dataframe tbody tr th:only-of-type {\n",
       "        vertical-align: middle;\n",
       "    }\n",
       "\n",
       "    .dataframe tbody tr th {\n",
       "        vertical-align: top;\n",
       "    }\n",
       "\n",
       "    .dataframe thead th {\n",
       "        text-align: right;\n",
       "    }\n",
       "</style>\n",
       "<table border=\"1\" class=\"dataframe\">\n",
       "  <thead>\n",
       "    <tr style=\"text-align: right;\">\n",
       "      <th></th>\n",
       "      <th>time_car</th>\n",
       "      <th>cost_car</th>\n",
       "      <th>time_rail</th>\n",
       "      <th>cost_rail</th>\n",
       "      <th>access_rail</th>\n",
       "      <th>service_rail</th>\n",
       "      <th>choice</th>\n",
       "    </tr>\n",
       "  </thead>\n",
       "  <tbody>\n",
       "    <tr>\n",
       "      <th>0</th>\n",
       "      <td>275</td>\n",
       "      <td>45</td>\n",
       "      <td>170</td>\n",
       "      <td>55</td>\n",
       "      <td>25</td>\n",
       "      <td>food</td>\n",
       "      <td>rail</td>\n",
       "    </tr>\n",
       "    <tr>\n",
       "      <th>1</th>\n",
       "      <td>275</td>\n",
       "      <td>45</td>\n",
       "      <td>155</td>\n",
       "      <td>35</td>\n",
       "      <td>5</td>\n",
       "      <td>no-frills</td>\n",
       "      <td>rail</td>\n",
       "    </tr>\n",
       "    <tr>\n",
       "      <th>2</th>\n",
       "      <td>300</td>\n",
       "      <td>45</td>\n",
       "      <td>155</td>\n",
       "      <td>65</td>\n",
       "      <td>20</td>\n",
       "      <td>no-frills</td>\n",
       "      <td>rail</td>\n",
       "    </tr>\n",
       "    <tr>\n",
       "      <th>3</th>\n",
       "      <td>390</td>\n",
       "      <td>35</td>\n",
       "      <td>155</td>\n",
       "      <td>65</td>\n",
       "      <td>15</td>\n",
       "      <td>food</td>\n",
       "      <td>rail</td>\n",
       "    </tr>\n",
       "    <tr>\n",
       "      <th>4</th>\n",
       "      <td>275</td>\n",
       "      <td>40</td>\n",
       "      <td>155</td>\n",
       "      <td>55</td>\n",
       "      <td>5</td>\n",
       "      <td>food</td>\n",
       "      <td>rail</td>\n",
       "    </tr>\n",
       "    <tr>\n",
       "      <th>5</th>\n",
       "      <td>250</td>\n",
       "      <td>50</td>\n",
       "      <td>120</td>\n",
       "      <td>65</td>\n",
       "      <td>20</td>\n",
       "      <td>wifi</td>\n",
       "      <td>rail</td>\n",
       "    </tr>\n",
       "    <tr>\n",
       "      <th>6</th>\n",
       "      <td>275</td>\n",
       "      <td>30</td>\n",
       "      <td>155</td>\n",
       "      <td>65</td>\n",
       "      <td>25</td>\n",
       "      <td>wifi</td>\n",
       "      <td>car</td>\n",
       "    </tr>\n",
       "    <tr>\n",
       "      <th>7</th>\n",
       "      <td>300</td>\n",
       "      <td>45</td>\n",
       "      <td>170</td>\n",
       "      <td>45</td>\n",
       "      <td>5</td>\n",
       "      <td>no-frills</td>\n",
       "      <td>rail</td>\n",
       "    </tr>\n",
       "    <tr>\n",
       "      <th>8</th>\n",
       "      <td>345</td>\n",
       "      <td>30</td>\n",
       "      <td>140</td>\n",
       "      <td>65</td>\n",
       "      <td>15</td>\n",
       "      <td>no-frills</td>\n",
       "      <td>car</td>\n",
       "    </tr>\n",
       "    <tr>\n",
       "      <th>9</th>\n",
       "      <td>250</td>\n",
       "      <td>40</td>\n",
       "      <td>140</td>\n",
       "      <td>75</td>\n",
       "      <td>20</td>\n",
       "      <td>wifi</td>\n",
       "      <td>car</td>\n",
       "    </tr>\n",
       "  </tbody>\n",
       "</table>\n",
       "</div>"
      ],
      "text/plain": [
       "   time_car  cost_car  time_rail  cost_rail  access_rail service_rail choice\n",
       "0       275        45        170         55           25         food   rail\n",
       "1       275        45        155         35            5    no-frills   rail\n",
       "2       300        45        155         65           20    no-frills   rail\n",
       "3       390        35        155         65           15         food   rail\n",
       "4       275        40        155         55            5         food   rail\n",
       "5       250        50        120         65           20         wifi   rail\n",
       "6       275        30        155         65           25         wifi    car\n",
       "7       300        45        170         45            5    no-frills   rail\n",
       "8       345        30        140         65           15    no-frills    car\n",
       "9       250        40        140         75           20         wifi    car"
      ]
     },
     "execution_count": 5,
     "metadata": {},
     "output_type": "execute_result"
    }
   ],
   "source": [
    "mode_choice_car_df.head(10)"
   ]
  },
  {
   "cell_type": "markdown",
   "metadata": {
    "id": "_kbmqIKe_o_r"
   },
   "source": [
    "Get to know the different values for the categorical variable *service rail*."
   ]
  },
  {
   "cell_type": "code",
   "execution_count": 6,
   "metadata": {
    "colab": {
     "base_uri": "https://localhost:8080/"
    },
    "id": "xYPlPLYAByX0",
    "outputId": "41e4fe84-f5ca-4bba-df43-e797163f5a0e"
   },
   "outputs": [
    {
     "data": {
      "text/plain": [
       "array(['food', 'no-frills', 'wifi'], dtype=object)"
      ]
     },
     "execution_count": 6,
     "metadata": {},
     "output_type": "execute_result"
    }
   ],
   "source": [
    "mode_choice_car_df.service_rail.unique()"
   ]
  },
  {
   "cell_type": "markdown",
   "metadata": {
    "id": "B78canKCB2_i"
   },
   "source": [
    "Get an overview about the statistics of the numerical columns:"
   ]
  },
  {
   "cell_type": "code",
   "execution_count": 7,
   "metadata": {
    "colab": {
     "base_uri": "https://localhost:8080/",
     "height": 300
    },
    "id": "dqd3oJ9Epqw7",
    "outputId": "8d7a467c-09d1-42fb-9519-76865e927845"
   },
   "outputs": [
    {
     "data": {
      "text/html": [
       "<div>\n",
       "<style scoped>\n",
       "    .dataframe tbody tr th:only-of-type {\n",
       "        vertical-align: middle;\n",
       "    }\n",
       "\n",
       "    .dataframe tbody tr th {\n",
       "        vertical-align: top;\n",
       "    }\n",
       "\n",
       "    .dataframe thead th {\n",
       "        text-align: right;\n",
       "    }\n",
       "</style>\n",
       "<table border=\"1\" class=\"dataframe\">\n",
       "  <thead>\n",
       "    <tr style=\"text-align: right;\">\n",
       "      <th></th>\n",
       "      <th>time_car</th>\n",
       "      <th>cost_car</th>\n",
       "      <th>time_rail</th>\n",
       "      <th>cost_rail</th>\n",
       "      <th>access_rail</th>\n",
       "    </tr>\n",
       "  </thead>\n",
       "  <tbody>\n",
       "    <tr>\n",
       "      <th>count</th>\n",
       "      <td>2266.000000</td>\n",
       "      <td>2266.000000</td>\n",
       "      <td>2266.000000</td>\n",
       "      <td>2266.000000</td>\n",
       "      <td>2266.000000</td>\n",
       "    </tr>\n",
       "    <tr>\n",
       "      <th>mean</th>\n",
       "      <td>310.505296</td>\n",
       "      <td>40.083848</td>\n",
       "      <td>143.175199</td>\n",
       "      <td>53.415711</td>\n",
       "      <td>15.037511</td>\n",
       "    </tr>\n",
       "    <tr>\n",
       "      <th>std</th>\n",
       "      <td>49.424710</td>\n",
       "      <td>6.988924</td>\n",
       "      <td>18.236603</td>\n",
       "      <td>14.285212</td>\n",
       "      <td>7.127716</td>\n",
       "    </tr>\n",
       "    <tr>\n",
       "      <th>min</th>\n",
       "      <td>250.000000</td>\n",
       "      <td>30.000000</td>\n",
       "      <td>120.000000</td>\n",
       "      <td>35.000000</td>\n",
       "      <td>5.000000</td>\n",
       "    </tr>\n",
       "    <tr>\n",
       "      <th>25%</th>\n",
       "      <td>275.000000</td>\n",
       "      <td>35.000000</td>\n",
       "      <td>130.000000</td>\n",
       "      <td>45.000000</td>\n",
       "      <td>10.000000</td>\n",
       "    </tr>\n",
       "    <tr>\n",
       "      <th>50%</th>\n",
       "      <td>300.000000</td>\n",
       "      <td>40.000000</td>\n",
       "      <td>140.000000</td>\n",
       "      <td>55.000000</td>\n",
       "      <td>15.000000</td>\n",
       "    </tr>\n",
       "    <tr>\n",
       "      <th>75%</th>\n",
       "      <td>345.000000</td>\n",
       "      <td>45.000000</td>\n",
       "      <td>155.000000</td>\n",
       "      <td>65.000000</td>\n",
       "      <td>20.000000</td>\n",
       "    </tr>\n",
       "    <tr>\n",
       "      <th>max</th>\n",
       "      <td>390.000000</td>\n",
       "      <td>50.000000</td>\n",
       "      <td>170.000000</td>\n",
       "      <td>75.000000</td>\n",
       "      <td>25.000000</td>\n",
       "    </tr>\n",
       "  </tbody>\n",
       "</table>\n",
       "</div>"
      ],
      "text/plain": [
       "          time_car     cost_car    time_rail    cost_rail  access_rail\n",
       "count  2266.000000  2266.000000  2266.000000  2266.000000  2266.000000\n",
       "mean    310.505296    40.083848   143.175199    53.415711    15.037511\n",
       "std      49.424710     6.988924    18.236603    14.285212     7.127716\n",
       "min     250.000000    30.000000   120.000000    35.000000     5.000000\n",
       "25%     275.000000    35.000000   130.000000    45.000000    10.000000\n",
       "50%     300.000000    40.000000   140.000000    55.000000    15.000000\n",
       "75%     345.000000    45.000000   155.000000    65.000000    20.000000\n",
       "max     390.000000    50.000000   170.000000    75.000000    25.000000"
      ]
     },
     "execution_count": 7,
     "metadata": {},
     "output_type": "execute_result"
    }
   ],
   "source": [
    "mode_choice_car_df.describe()"
   ]
  },
  {
   "cell_type": "markdown",
   "metadata": {
    "id": "VdOghmNYplJe"
   },
   "source": [
    "### Train-Test Split\n",
    "\n",
    "We divide the data first into its explaining variables/features (X) and the variable that we want to predict/target (y).\n",
    "\n",
    "Afterwards we create a train and test set with a 80%/20% split."
   ]
  },
  {
   "cell_type": "code",
   "execution_count": 8,
   "metadata": {
    "id": "iT2X2dEbbzhA"
   },
   "outputs": [],
   "source": [
    "from sklearn.model_selection import train_test_split\n",
    "\n",
    "X = mode_choice_car_df.drop(columns=[\"choice\"])\n",
    "y = mode_choice_car_df[\"choice\"]\n",
    "\n",
    "X_train, X_test, y_train, y_test = train_test_split(X, y, test_size=0.2, random_state=0)"
   ]
  },
  {
   "cell_type": "code",
   "execution_count": 9,
   "metadata": {
    "colab": {
     "base_uri": "https://localhost:8080/",
     "height": 206
    },
    "id": "rbDd-RyPCuCm",
    "outputId": "5039cc61-68e1-45b8-921a-7fe370a72f50"
   },
   "outputs": [
    {
     "data": {
      "text/html": [
       "<div>\n",
       "<style scoped>\n",
       "    .dataframe tbody tr th:only-of-type {\n",
       "        vertical-align: middle;\n",
       "    }\n",
       "\n",
       "    .dataframe tbody tr th {\n",
       "        vertical-align: top;\n",
       "    }\n",
       "\n",
       "    .dataframe thead th {\n",
       "        text-align: right;\n",
       "    }\n",
       "</style>\n",
       "<table border=\"1\" class=\"dataframe\">\n",
       "  <thead>\n",
       "    <tr style=\"text-align: right;\">\n",
       "      <th></th>\n",
       "      <th>time_car</th>\n",
       "      <th>cost_car</th>\n",
       "      <th>time_rail</th>\n",
       "      <th>cost_rail</th>\n",
       "      <th>access_rail</th>\n",
       "      <th>service_rail</th>\n",
       "    </tr>\n",
       "  </thead>\n",
       "  <tbody>\n",
       "    <tr>\n",
       "      <th>1150</th>\n",
       "      <td>250</td>\n",
       "      <td>45</td>\n",
       "      <td>170</td>\n",
       "      <td>35</td>\n",
       "      <td>15</td>\n",
       "      <td>food</td>\n",
       "    </tr>\n",
       "    <tr>\n",
       "      <th>1538</th>\n",
       "      <td>275</td>\n",
       "      <td>35</td>\n",
       "      <td>140</td>\n",
       "      <td>65</td>\n",
       "      <td>20</td>\n",
       "      <td>food</td>\n",
       "    </tr>\n",
       "    <tr>\n",
       "      <th>1254</th>\n",
       "      <td>300</td>\n",
       "      <td>40</td>\n",
       "      <td>140</td>\n",
       "      <td>55</td>\n",
       "      <td>25</td>\n",
       "      <td>food</td>\n",
       "    </tr>\n",
       "    <tr>\n",
       "      <th>1843</th>\n",
       "      <td>345</td>\n",
       "      <td>45</td>\n",
       "      <td>130</td>\n",
       "      <td>45</td>\n",
       "      <td>10</td>\n",
       "      <td>no-frills</td>\n",
       "    </tr>\n",
       "    <tr>\n",
       "      <th>977</th>\n",
       "      <td>345</td>\n",
       "      <td>35</td>\n",
       "      <td>140</td>\n",
       "      <td>45</td>\n",
       "      <td>25</td>\n",
       "      <td>food</td>\n",
       "    </tr>\n",
       "  </tbody>\n",
       "</table>\n",
       "</div>"
      ],
      "text/plain": [
       "      time_car  cost_car  time_rail  cost_rail  access_rail service_rail\n",
       "1150       250        45        170         35           15         food\n",
       "1538       275        35        140         65           20         food\n",
       "1254       300        40        140         55           25         food\n",
       "1843       345        45        130         45           10    no-frills\n",
       "977        345        35        140         45           25         food"
      ]
     },
     "execution_count": 9,
     "metadata": {},
     "output_type": "execute_result"
    }
   ],
   "source": [
    "X_train.head()"
   ]
  },
  {
   "cell_type": "markdown",
   "metadata": {
    "id": "2oxjUFBZpVaq"
   },
   "source": [
    "### Scaling and Encoding the features\n",
    "\n",
    "We remember: especially for distance calculations we need to scale the features to ensure equal influence.\n",
    "\n",
    "Furthermore, we have a categorical variable in our dataset: *service_rail*. We need to treat this variable by an encoding technique before using it. In this case we have decided for one-hot encoding.\n"
   ]
  },
  {
   "cell_type": "code",
   "execution_count": 10,
   "metadata": {
    "colab": {
     "base_uri": "https://localhost:8080/"
    },
    "id": "f3ZwFGzjCDhz",
    "outputId": "8bb55c5f-08ea-4998-e871-79bffacb9b49"
   },
   "outputs": [
    {
     "name": "stderr",
     "output_type": "stream",
     "text": [
      "C:\\Users\\ASUS\\anaconda3\\Lib\\site-packages\\sklearn\\preprocessing\\_encoders.py:972: FutureWarning: `sparse` was renamed to `sparse_output` in version 1.2 and will be removed in 1.4. `sparse_output` is ignored unless you leave `sparse` to its default value.\n",
      "  warnings.warn(\n",
      "C:\\Users\\ASUS\\anaconda3\\Lib\\site-packages\\sklearn\\preprocessing\\_encoders.py:972: FutureWarning: `sparse` was renamed to `sparse_output` in version 1.2 and will be removed in 1.4. `sparse_output` is ignored unless you leave `sparse` to its default value.\n",
      "  warnings.warn(\n"
     ]
    }
   ],
   "source": [
    "from sklearn.preprocessing import StandardScaler, OneHotEncoder\n",
    "\n",
    "# Define which columns should be encoded vs scaled\n",
    "columns_to_encode = [\"service_rail\"]\n",
    "columns_to_scale  = [\"time_car\", \"cost_car\", \"time_rail\", \"cost_rail\", \"access_rail\"]\n",
    "\n",
    "# Instantiate encoder/scaler\n",
    "scaler = StandardScaler()\n",
    "ohe = OneHotEncoder(sparse=False)\n",
    "\n",
    "# Scale and Encode Separate Columns\n",
    "X_train_scaled_columns  = scaler.fit_transform(X_train[columns_to_scale])\n",
    "X_train_encoded_columns = ohe.fit_transform(X_train[columns_to_encode])\n",
    "\n",
    "X_test_scaled_columns  = scaler.fit_transform(X_test[columns_to_scale])\n",
    "X_test_encoded_columns = ohe.fit_transform(X_test[columns_to_encode])\n",
    "\n",
    "# Concatenate (Column-Bind) Processed Columns Back Together\n",
    "X_train_processed = np.concatenate([X_train_scaled_columns, X_train_encoded_columns], axis=1)\n",
    "X_test_processed = np.concatenate([X_test_scaled_columns, X_test_encoded_columns], axis=1)"
   ]
  },
  {
   "cell_type": "markdown",
   "metadata": {
    "id": "1t3aWEJFit7B"
   },
   "source": [
    "## Task 1: Build your own KNN classifier\n",
    "\n",
    "Your task is now to implement the KNN algorithm yourself. Return the classification of the unclassified point (*X_unclassified*).\n",
    "\n",
    "Python methods that might be helpful:\n",
    "- **for-loop**: ```for value in mylist:```\n",
    "- **Append values to a list:** ```my_list.append(value)```\n",
    "- **Get the indices of the n smallest values of the list mylist**: ```np.argsort(my_list)[:n]```\n",
    "- **Gets the values from a pandas series at the location of the given indices**: ```y_train.iloc[indices]```\n",
    "- **Get the most frequent element in a list**: ```mode(mylist)```"
   ]
  },
  {
   "cell_type": "markdown",
   "metadata": {
    "id": "ZHBRIc74Sfe9"
   },
   "source": [
    "### Implement Distance Function\n",
    "\n",
    "The euclidean distance function allows to determine the distance between two points."
   ]
  },
  {
   "cell_type": "code",
   "execution_count": 11,
   "metadata": {
    "id": "_jtyTSf6SbwQ"
   },
   "outputs": [],
   "source": [
    "def euclidean_distance(point1, point2):\n",
    "  # go through the features of point1 and 2\n",
    "  current_sum = 0\n",
    "  for i in range(0, len(point1)):\n",
    "    # calculate their squared difference and sum it\n",
    "    current_sum += (point1[i]-point2[i])**2\n",
    "\n",
    "  # calculate the square root from the summed distances\n",
    "  distance = np.sqrt(current_sum)\n",
    "\n",
    "  return distance"
   ]
  },
  {
   "cell_type": "markdown",
   "metadata": {
    "id": "-9Mt8yEksSYa"
   },
   "source": [
    "### Code of your own KNN classifier:"
   ]
  },
  {
   "cell_type": "code",
   "execution_count": 16,
   "metadata": {
    "id": "o2Kks1rmiv0K"
   },
   "outputs": [],
   "source": [
    "def custom_knn(X_train, y_train, X_unclassified, k):\n",
    "    \n",
    "    distances = []\n",
    "\n",
    "    for point in X_train:\n",
    "        distance = euclidean_distance(point, X_unclassified)\n",
    "        distances.append(distance)\n",
    "\n",
    "    knn_indices = np.argsort(distances)[:k]\n",
    "\n",
    "    classification = mode(y_train.iloc[knn_indices])\n",
    "    \n",
    "    return classification"
   ]
  },
  {
   "cell_type": "markdown",
   "metadata": {
    "id": "sB-U4w9Zq35d"
   },
   "source": [
    "### Make a prediction"
   ]
  },
  {
   "cell_type": "code",
   "execution_count": 17,
   "metadata": {
    "id": "hrQD7LTIbTSX"
   },
   "outputs": [
    {
     "data": {
      "text/plain": [
       "'rail'"
      ]
     },
     "execution_count": 17,
     "metadata": {},
     "output_type": "execute_result"
    }
   ],
   "source": [
    "custom_knn(X_train_processed, y_train, X_test_processed[0], 5)"
   ]
  },
  {
   "cell_type": "markdown",
   "metadata": {
    "id": "TWecmtnKw2V2"
   },
   "source": [
    "### Compare with the true class"
   ]
  },
  {
   "cell_type": "code",
   "execution_count": 18,
   "metadata": {
    "id": "J5wEborXc7vd"
   },
   "outputs": [
    {
     "data": {
      "text/plain": [
       "'rail'"
      ]
     },
     "execution_count": 18,
     "metadata": {},
     "output_type": "execute_result"
    }
   ],
   "source": [
    "y_test.iloc[0]"
   ]
  },
  {
   "cell_type": "markdown",
   "metadata": {
    "id": "nQYuQ4zax4KE"
   },
   "source": [
    "## Task 2: Understand Classification Evaluation Metrics\n",
    "\n",
    " - **Accuracy**: The ratio of correctly predicted instances to the total instances.\n",
    "   - Formula: `Accuracy = (TP + TN) / (TP + TN + FP + FN)`\n",
    "\n",
    " - **Precision**: The ratio of correctly predicted positive observations to the total predicted positives.\n",
    "   - Formula: `Precision = TP / (TP + FP)`\n",
    "\n",
    " - **Recall (Sensitivity/True Positive Rate)**: The ratio of correctly predicted positive observations to all observations in the actual class.\n",
    "   - Formula: `Recall = TP / (TP + FN)`\n",
    "\n",
    " - **F1-Score**: The harmonic mean of precision and recall.\n",
    "   - Formula: `F1-Score = 2 * (Precision * Recall) / (Precision + Recall)`\n",
    "\n",
    "Let's calculate these metrics using an example scenario.\n",
    "\n",
    "**Scenario:**\n",
    "- Imagine you are building a model to predict mode choice with a dataset where only 1% of the observations used the mode car (i.e., imbalanced data).\n",
    "- Assume you have 10,000 observations, where 100 are mode car (positive class) and 9,900 are mode rail (negative class).\n",
    "\n",
    "### Task 2.1: Initial Model Evaluation\n",
    "Consider a model that predicts all transactions as rail (negative class).\n",
    "\n",
    "- a) Calculate the following metrics: Accuracy, Precision, Recall, F1-Score\n",
    "- b) What can you observe? Are all measures equally suitable for this task?\n"
   ]
  },
  {
   "cell_type": "markdown",
   "metadata": {
    "id": "j9Sf1E0kIFSJ"
   },
   "source": [
    "## Task 3: ROC Curve\n",
    "\n",
    "In this task the goal is to understand the ROC curve and how it can be used to identify the optimal threshold for a classification task with logistic regression."
   ]
  },
  {
   "cell_type": "markdown",
   "metadata": {
    "id": "KPqtk0IsLMNC"
   },
   "source": [
    "### Fit Logistic Regression Model\n",
    "First we are fitting a logistic regression model. The model internally predicts a probability, e.g., for the mode choice being car in our example.\n",
    "\n",
    "It is important to find the optimal threshold where we \"trust\" the model.\n",
    "\n",
    "Is 50% probability enough that we assign the label \"car\" to an observation? Or is maybe a threshold of 70% necessary to get a good result?"
   ]
  },
  {
   "cell_type": "code",
   "execution_count": 19,
   "metadata": {
    "colab": {
     "base_uri": "https://localhost:8080/",
     "height": 75
    },
    "id": "Wg1Vj_1MLIEe",
    "outputId": "fc6aecea-996a-4281-8c70-ccfb782d35de"
   },
   "outputs": [
    {
     "data": {
      "text/html": [
       "<style>#sk-container-id-1 {color: black;}#sk-container-id-1 pre{padding: 0;}#sk-container-id-1 div.sk-toggleable {background-color: white;}#sk-container-id-1 label.sk-toggleable__label {cursor: pointer;display: block;width: 100%;margin-bottom: 0;padding: 0.3em;box-sizing: border-box;text-align: center;}#sk-container-id-1 label.sk-toggleable__label-arrow:before {content: \"▸\";float: left;margin-right: 0.25em;color: #696969;}#sk-container-id-1 label.sk-toggleable__label-arrow:hover:before {color: black;}#sk-container-id-1 div.sk-estimator:hover label.sk-toggleable__label-arrow:before {color: black;}#sk-container-id-1 div.sk-toggleable__content {max-height: 0;max-width: 0;overflow: hidden;text-align: left;background-color: #f0f8ff;}#sk-container-id-1 div.sk-toggleable__content pre {margin: 0.2em;color: black;border-radius: 0.25em;background-color: #f0f8ff;}#sk-container-id-1 input.sk-toggleable__control:checked~div.sk-toggleable__content {max-height: 200px;max-width: 100%;overflow: auto;}#sk-container-id-1 input.sk-toggleable__control:checked~label.sk-toggleable__label-arrow:before {content: \"▾\";}#sk-container-id-1 div.sk-estimator input.sk-toggleable__control:checked~label.sk-toggleable__label {background-color: #d4ebff;}#sk-container-id-1 div.sk-label input.sk-toggleable__control:checked~label.sk-toggleable__label {background-color: #d4ebff;}#sk-container-id-1 input.sk-hidden--visually {border: 0;clip: rect(1px 1px 1px 1px);clip: rect(1px, 1px, 1px, 1px);height: 1px;margin: -1px;overflow: hidden;padding: 0;position: absolute;width: 1px;}#sk-container-id-1 div.sk-estimator {font-family: monospace;background-color: #f0f8ff;border: 1px dotted black;border-radius: 0.25em;box-sizing: border-box;margin-bottom: 0.5em;}#sk-container-id-1 div.sk-estimator:hover {background-color: #d4ebff;}#sk-container-id-1 div.sk-parallel-item::after {content: \"\";width: 100%;border-bottom: 1px solid gray;flex-grow: 1;}#sk-container-id-1 div.sk-label:hover label.sk-toggleable__label {background-color: #d4ebff;}#sk-container-id-1 div.sk-serial::before {content: \"\";position: absolute;border-left: 1px solid gray;box-sizing: border-box;top: 0;bottom: 0;left: 50%;z-index: 0;}#sk-container-id-1 div.sk-serial {display: flex;flex-direction: column;align-items: center;background-color: white;padding-right: 0.2em;padding-left: 0.2em;position: relative;}#sk-container-id-1 div.sk-item {position: relative;z-index: 1;}#sk-container-id-1 div.sk-parallel {display: flex;align-items: stretch;justify-content: center;background-color: white;position: relative;}#sk-container-id-1 div.sk-item::before, #sk-container-id-1 div.sk-parallel-item::before {content: \"\";position: absolute;border-left: 1px solid gray;box-sizing: border-box;top: 0;bottom: 0;left: 50%;z-index: -1;}#sk-container-id-1 div.sk-parallel-item {display: flex;flex-direction: column;z-index: 1;position: relative;background-color: white;}#sk-container-id-1 div.sk-parallel-item:first-child::after {align-self: flex-end;width: 50%;}#sk-container-id-1 div.sk-parallel-item:last-child::after {align-self: flex-start;width: 50%;}#sk-container-id-1 div.sk-parallel-item:only-child::after {width: 0;}#sk-container-id-1 div.sk-dashed-wrapped {border: 1px dashed gray;margin: 0 0.4em 0.5em 0.4em;box-sizing: border-box;padding-bottom: 0.4em;background-color: white;}#sk-container-id-1 div.sk-label label {font-family: monospace;font-weight: bold;display: inline-block;line-height: 1.2em;}#sk-container-id-1 div.sk-label-container {text-align: center;}#sk-container-id-1 div.sk-container {/* jupyter's `normalize.less` sets `[hidden] { display: none; }` but bootstrap.min.css set `[hidden] { display: none !important; }` so we also need the `!important` here to be able to override the default hidden behavior on the sphinx rendered scikit-learn.org. See: https://github.com/scikit-learn/scikit-learn/issues/21755 */display: inline-block !important;position: relative;}#sk-container-id-1 div.sk-text-repr-fallback {display: none;}</style><div id=\"sk-container-id-1\" class=\"sk-top-container\"><div class=\"sk-text-repr-fallback\"><pre>LogisticRegression()</pre><b>In a Jupyter environment, please rerun this cell to show the HTML representation or trust the notebook. <br />On GitHub, the HTML representation is unable to render, please try loading this page with nbviewer.org.</b></div><div class=\"sk-container\" hidden><div class=\"sk-item\"><div class=\"sk-estimator sk-toggleable\"><input class=\"sk-toggleable__control sk-hidden--visually\" id=\"sk-estimator-id-1\" type=\"checkbox\" checked><label for=\"sk-estimator-id-1\" class=\"sk-toggleable__label sk-toggleable__label-arrow\">LogisticRegression</label><div class=\"sk-toggleable__content\"><pre>LogisticRegression()</pre></div></div></div></div></div>"
      ],
      "text/plain": [
       "LogisticRegression()"
      ]
     },
     "execution_count": 19,
     "metadata": {},
     "output_type": "execute_result"
    }
   ],
   "source": [
    "from sklearn.model_selection import train_test_split\n",
    "from sklearn.linear_model import LogisticRegression\n",
    "\n",
    "y_train = y_train.map({'car': 1, 'rail': 0})\n",
    "y_test = y_test.map({'car': 1, 'rail': 0})\n",
    "\n",
    "# Train a logistic regression model\n",
    "model = LogisticRegression()\n",
    "model.fit(X_train_processed, y_train)"
   ]
  },
  {
   "cell_type": "markdown",
   "metadata": {
    "id": "n1fXI2MJRBi2"
   },
   "source": [
    "### Task 3.1: Interpret the ROC Curve\n",
    "\n",
    "One way to find the optimal parameter set for such a model in a binary classification setting is the Receiver Operating Characteristic (ROC) curve (see below).\n",
    "\n",
    "Now try to interprete with the lecture slides what this curve means and what information we can derive from it.\n",
    "\n",
    "- a) How would the optimal ROC curve look like?\n",
    "- b) How does the ROC curve supports us in finding the optimal threshold parameter?\n",
    "- c) Find the approximate FPR and TPR of the optimal threshold given the ROC curve below."
   ]
  },
  {
   "cell_type": "code",
   "execution_count": 20,
   "metadata": {
    "colab": {
     "base_uri": "https://localhost:8080/",
     "height": 564
    },
    "id": "uRRqB8Z8w7IV",
    "outputId": "87278dd2-314d-4a90-e83d-ce764bcbf96e"
   },
   "outputs": [
    {
     "data": {
      "image/png": "[encoded data removed]",
      "text/plain": [
       "<Figure size 1000x600 with 1 Axes>"
      ]
     },
     "metadata": {},
     "output_type": "display_data"
    }
   ],
   "source": [
    "import matplotlib.pyplot as plt\n",
    "from sklearn.metrics import roc_curve, roc_auc_score\n",
    "\n",
    "# Predict probabilities for the test set\n",
    "y_probs = model.predict_proba(X_test_processed)[:, 1]\n",
    "\n",
    "# ## Part 2: Plotting the ROC Curve\n",
    "fpr, tpr, thresholds = roc_curve(y_test, y_probs)\n",
    "roc_auc = roc_auc_score(y_test, y_probs)\n",
    "\n",
    "plt.figure(figsize=(10, 6))\n",
    "plt.plot(fpr, tpr, label=f'Logistic Regression (AUC = {roc_auc:.2f})')\n",
    "plt.plot([0, 1], [0, 1], 'k--', label='Random Guess')\n",
    "plt.xlabel('False Positive Rate (FPR)')\n",
    "plt.ylabel('True Positive Rate (TPR)')\n",
    "plt.title('ROC Curve')\n",
    "plt.legend(loc='lower right')\n",
    "plt.show()"
   ]
  },
  {
   "cell_type": "markdown",
   "metadata": {
    "id": "lo76CbUtpDxV"
   },
   "source": [
    "### Determine the best threshold parameter"
   ]
  },
  {
   "cell_type": "code",
   "execution_count": 21,
   "metadata": {
    "colab": {
     "base_uri": "https://localhost:8080/"
    },
    "id": "Iqim_P7cVYkh",
    "outputId": "5ac187cf-8d87-44fc-e476-8ddaa73a6f6f"
   },
   "outputs": [
    {
     "data": {
      "text/plain": [
       "0.46750131982580795"
      ]
     },
     "execution_count": 21,
     "metadata": {},
     "output_type": "execute_result"
    }
   ],
   "source": [
    "# calculate the distance to the top-left corner (0, 1) for each threshold\n",
    "distances = np.sqrt((1 - tpr) ** 2 + fpr ** 2)\n",
    "\n",
    "# find the index of the smallest distance\n",
    "optimal_index = np.argmin(distances)\n",
    "\n",
    "# get the optimal threshold\n",
    "optimal_threshold = thresholds[optimal_index]\n",
    "optimal_threshold"
   ]
  },
  {
   "cell_type": "markdown",
   "metadata": {
    "id": "CqHqAc8spWYP"
   },
   "source": [
    "### Find the TPR, FPR of this threshold"
   ]
  },
  {
   "cell_type": "code",
   "execution_count": 23,
   "metadata": {
    "id": "MZNLrXNCpVQA"
   },
   "outputs": [
    {
     "name": "stdout",
     "output_type": "stream",
     "text": [
      "0.3218390804597701\n",
      "0.6373056994818653\n"
     ]
    }
   ],
   "source": [
    "print(fpr[optimal_index])\n",
    "print(tpr[optimal_index])"
   ]
  },
  {
   "cell_type": "code",
   "execution_count": null,
   "metadata": {},
   "outputs": [],
   "source": []
  }
 ],
 "metadata": {
  "colab": {
   "provenance": []
  },
  "kernelspec": {
   "display_name": "Python 3 (ipykernel)",
   "language": "python",
   "name": "python3"
  },
  "language_info": {
   "codemirror_mode": {
    "name": "ipython",
    "version": 3
   },
   "file_extension": ".py",
   "mimetype": "text/x-python",
   "name": "python",
   "nbconvert_exporter": "python",
   "pygments_lexer": "ipython3",
   "version": "3.11.4"
  }
 },
 "nbformat": 4,
 "nbformat_minor": 1
}
